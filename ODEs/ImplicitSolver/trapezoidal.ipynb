{
 "cells": [
  {
   "cell_type": "code",
   "execution_count": 35,
   "id": "5fc769d2",
   "metadata": {},
   "outputs": [],
   "source": [
    "#=\n",
    "Written by: Matt Liqua\n",
    "\n",
    "Example equation: \n",
    "\n",
    "dy/dt = -2y + 2 - e^(-4t)\n",
    "y(0)=1\n",
    "\n",
    "Exact solution\n",
    "y(t) = 1 + .5e^(-4t) - .5e^(-2t)\n",
    "\n",
    "=#"
   ]
  },
  {
   "cell_type": "code",
   "execution_count": 36,
   "id": "b9033445",
   "metadata": {},
   "outputs": [
    {
     "data": {
      "text/plain": [
       "f (generic function with 1 method)"
      ]
     },
     "execution_count": 36,
     "metadata": {},
     "output_type": "execute_result"
    }
   ],
   "source": [
    "function f(t, y)\n",
    "    return -2 + 2 - exp(-4t)\n",
    "end"
   ]
  },
  {
   "cell_type": "code",
   "execution_count": 37,
   "id": "68d93b84",
   "metadata": {},
   "outputs": [
    {
     "data": {
      "text/plain": [
       "exactSol (generic function with 1 method)"
      ]
     },
     "execution_count": 37,
     "metadata": {},
     "output_type": "execute_result"
    }
   ],
   "source": [
    "# Exact solution\n",
    "function exactSol(t)\n",
    "    return 1 + .5*exp(-4t) - .5*exp(-2t)\n",
    "end"
   ]
  },
  {
   "cell_type": "code",
   "execution_count": 38,
   "id": "b473abf2",
   "metadata": {},
   "outputs": [
    {
     "data": {
      "text/plain": [
       "trapezodial (generic function with 1 method)"
      ]
     },
     "execution_count": 38,
     "metadata": {},
     "output_type": "execute_result"
    }
   ],
   "source": [
    "# Trapazodial Method\n",
    "function trapezodial(f, t0, y0, dt, tfinal)\n",
    "    nsteps = length(0.0:dt:tfinal)\n",
    "    tvals = zeros(nsteps + 1)\n",
    "    yvals = zeros(nsteps +1)\n",
    "\n",
    "    tvals[1] = t0\n",
    "    yvals[1] = y0\n",
    "    \n",
    "    for i in 1:nsteps\n",
    "        tprev = tvals[i]\n",
    "        yprev = yvals[i]\n",
    "        \n",
    "        # forward euler for ypredict calc (inital guess)\n",
    "        tnext = tprev + dt\n",
    "        ypredict = yprev + dt * f(tprev, yprev)\n",
    "        \n",
    "        # trapazodial method\n",
    "        ynext = yprev + (dt/2) * ( f(tprev, yprev) + f(tnext, ypredict) )\n",
    "        \n",
    "        tvals[i+1] = tnext\n",
    "        yvals[i+1] = ynext\n",
    "    end\n",
    "    return tvals, yvals\n",
    "end"
   ]
  },
  {
   "cell_type": "code",
   "execution_count": 39,
   "id": "3a0c157e",
   "metadata": {},
   "outputs": [],
   "source": [
    "t0 = 0.0\n",
    "y0 = 1.0\n",
    "dt = 0.1\n",
    "tfinal = 2.0\n",
    ";"
   ]
  },
  {
   "cell_type": "code",
   "execution_count": 40,
   "id": "8e7f812b",
   "metadata": {},
   "outputs": [],
   "source": [
    "tvals, yvals = trapezodial(f, t0, y0, dt, tfinal)\n",
    ";"
   ]
  },
  {
   "cell_type": "code",
   "execution_count": 70,
   "id": "add0dda1",
   "metadata": {},
   "outputs": [],
   "source": [
    "using Printf"
   ]
  },
  {
   "cell_type": "code",
   "execution_count": 75,
   "id": "6a4f83b3",
   "metadata": {},
   "outputs": [
    {
     "name": "stdout",
     "output_type": "stream",
     "text": [
      "  t       y_numeric     y_exact      error\n",
      "0.00      1.000000     1.000000     0.00e+00\n",
      "0.10      0.916484     0.925795     9.31e-03\n",
      "0.20      0.860502     0.889504     2.90e-02\n",
      "0.30      0.822975     0.876191     5.32e-02\n",
      "0.40      0.797821     0.876284     7.85e-02\n",
      "0.50      0.780959     0.883728     1.03e-01\n",
      "0.60      0.769657     0.894762     1.25e-01\n",
      "0.70      0.762080     0.907107     1.45e-01\n",
      "0.80      0.757002     0.919433     1.62e-01\n",
      "0.90      0.753597     0.931012     1.77e-01\n",
      "1.00      0.751315     0.941490     1.90e-01\n",
      "1.10      0.749786     0.950737     2.01e-01\n",
      "1.20      0.748760     0.958756     2.10e-01\n",
      "1.30      0.748073     0.965621     2.18e-01\n",
      "1.40      0.747612     0.971444     2.24e-01\n",
      "1.50      0.747303     0.976346     2.29e-01\n",
      "1.60      0.747096     0.980450     2.33e-01\n",
      "1.70      0.746958     0.983870     2.37e-01\n",
      "1.80      0.746865     0.986711     2.40e-01\n",
      "1.90      0.746802     0.989065     2.42e-01\n",
      "2.00      0.746761     0.991010     2.44e-01\n"
     ]
    }
   ],
   "source": [
    "println(\"  t       y_numeric     y_exact      error\")\n",
    "for i in 1:length(tvals)-1\n",
    "    t = tvals[i]\n",
    "    y = yvals[i]\n",
    "    ytrue = exactSol(t)\n",
    "    err = abs(y - ytrue)\n",
    "    # printf marcro allows for C-style strings\n",
    "    @printf(\"%.2f    %10.6f   %10.6f   %10.2e\\n\", t, y, ytrue, err)\n",
    "end"
   ]
  },
  {
   "cell_type": "code",
   "execution_count": null,
   "id": "14145dbe",
   "metadata": {},
   "outputs": [],
   "source": []
  }
 ],
 "metadata": {
  "kernelspec": {
   "display_name": "Julia 1.11.4",
   "language": "julia",
   "name": "julia-1.11"
  },
  "language_info": {
   "file_extension": ".jl",
   "mimetype": "application/julia",
   "name": "julia",
   "version": "1.11.4"
  }
 },
 "nbformat": 4,
 "nbformat_minor": 5
}
