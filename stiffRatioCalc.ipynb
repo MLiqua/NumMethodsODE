{
 "cells": [
  {
   "cell_type": "code",
   "execution_count": 15,
   "id": "6acdebd9",
   "metadata": {},
   "outputs": [],
   "source": [
    "using LinearAlgebra\n",
    "using ForwardDiff # used to calculate Jacobian Matrix"
   ]
  },
  {
   "cell_type": "code",
   "execution_count": 21,
   "id": "7504fe6c",
   "metadata": {},
   "outputs": [
    {
     "data": {
      "text/plain": [
       "ODEsytem (generic function with 1 method)"
      ]
     },
     "execution_count": 21,
     "metadata": {},
     "output_type": "execute_result"
    }
   ],
   "source": [
    "#=\n",
    "Given system:\n",
    "    dy1 /dt = -1000y1 + y2\n",
    "    dy2 /dt = -y1 + y2\n",
    "=#\n",
    "\n",
    "# System of ODEs as a function (we can change it to meet one's needs\n",
    "function ODEsytem(y)\n",
    "    return[\n",
    "            -1000*y[1] + y[2];\n",
    "            -y[1] - y[2]\n",
    "          ]\n",
    "end"
   ]
  },
  {
   "cell_type": "code",
   "execution_count": 22,
   "id": "5b004359",
   "metadata": {},
   "outputs": [
    {
     "data": {
      "text/plain": [
       "computeJacobian (generic function with 1 method)"
      ]
     },
     "execution_count": 22,
     "metadata": {},
     "output_type": "execute_result"
    }
   ],
   "source": [
    "# Calc Jacobian Matrix\n",
    "function computeJacobian(ODEsytem, y)\n",
    "    return ForwardDiff.jacobian(ODEsytem, y)\n",
    "end"
   ]
  },
  {
   "cell_type": "code",
   "execution_count": 32,
   "id": "7d0975f9",
   "metadata": {},
   "outputs": [
    {
     "data": {
      "text/plain": [
       "stiffnessRatio (generic function with 1 method)"
      ]
     },
     "execution_count": 32,
     "metadata": {},
     "output_type": "execute_result"
    }
   ],
   "source": [
    "# Computing Sitffness Ratio from |real eignenvalues|\n",
    "function stiffnessRatio(x)\n",
    "    eigenVals = eigvals(x)\n",
    "    realEigens = abs.(real.(eigenVals))\n",
    "    nonzeroReals = realEigens[realEigens .> 1e-12] # filtering out near-zero values to avoid divide by zero error\n",
    "    return maximum(nonzeroReals) / minimum(nonzeroReals) # stiffness ratio\n",
    "end"
   ]
  },
  {
   "cell_type": "code",
   "execution_count": 33,
   "id": "29b223e6",
   "metadata": {},
   "outputs": [
    {
     "name": "stdout",
     "output_type": "stream",
     "text": [
      "Jacobian matrix at y = [1.0, 0.0]:\n",
      "\n"
     ]
    },
    {
     "data": {
      "text/plain": [
       "2×2 Matrix{Float64}:\n",
       " -1000.0   1.0\n",
       "    -1.0  -1.0"
      ]
     },
     "execution_count": 33,
     "metadata": {},
     "output_type": "execute_result"
    }
   ],
   "source": [
    "y0 = [1.0, 0.0] # Main evaluation point\n",
    "jacobianMatrix = computeJacobian(f,y0)\n",
    "println(\"Jacobian matrix at y = $y0:\\n\")\n",
    "jacobianMatrix"
   ]
  },
  {
   "cell_type": "code",
   "execution_count": 45,
   "id": "2047b14f",
   "metadata": {},
   "outputs": [
    {
     "name": "stdout",
     "output_type": "stream",
     "text": [
      "This is the stiffness ratio: 998.9989989979961\n"
     ]
    }
   ],
   "source": [
    "r = stiffnessRatio(jacobianMatrix)\n",
    "println(\"This is the stiffness ratio: \", r)"
   ]
  },
  {
   "cell_type": "code",
   "execution_count": 46,
   "id": "f3464180",
   "metadata": {},
   "outputs": [
    {
     "name": "stdout",
     "output_type": "stream",
     "text": [
      "System is likely stiff, use implict solver\n"
     ]
    }
   ],
   "source": [
    "if r >= 1000\n",
    "    pritnln(\"Strongly stiff system, requires implicit solver\")\n",
    "elseif r < 1000 && r > 100\n",
    "    println(\"System is likely stiff, use implict solver\")\n",
    "elseif r >= 10 && r <= 100\n",
    "    println(\"System exhibits moderate stiffness, likely can get away with explicit solver\")\n",
    "else r < 10 && r > 1\n",
    "    println(\"System is non-stiff and has mild dyanmics, use explicit solver\")\n",
    "end"
   ]
  }
 ],
 "metadata": {
  "kernelspec": {
   "display_name": "Julia 1.11.4",
   "language": "julia",
   "name": "julia-1.11"
  },
  "language_info": {
   "file_extension": ".jl",
   "mimetype": "application/julia",
   "name": "julia",
   "version": "1.11.4"
  }
 },
 "nbformat": 4,
 "nbformat_minor": 5
}
