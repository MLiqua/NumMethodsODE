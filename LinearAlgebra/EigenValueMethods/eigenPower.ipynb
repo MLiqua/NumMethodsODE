{
 "cells": [
  {
   "cell_type": "code",
   "execution_count": 1,
   "id": "d356d0d9",
   "metadata": {},
   "outputs": [],
   "source": [
    "#=\n",
    "Written by: Matt Liqua\n",
    "\n",
    "Script does calculations of largest eigenvalue as well as associated eigenvector with that largest eigenvalue\n",
    "\n",
    "What it tells you:\n",
    "Growth or decay\n",
    "&\n",
    "Direction of growth\n",
    "\n",
    "Capital letters indicate matrices\n",
    "=#"
   ]
  },
  {
   "cell_type": "code",
   "execution_count": 14,
   "id": "7ba0e81a",
   "metadata": {},
   "outputs": [],
   "source": [
    "using LinearAlgebra"
   ]
  },
  {
   "cell_type": "code",
   "execution_count": 31,
   "id": "0523bc33",
   "metadata": {},
   "outputs": [
    {
     "data": {
      "text/plain": [
       "eigenPower (generic function with 1 method)"
      ]
     },
     "execution_count": 31,
     "metadata": {},
     "output_type": "execute_result"
    }
   ],
   "source": [
    "function eigenPower(A; tol = 1e-6, maxIter=1000)\n",
    "    n = size(A, 1)\n",
    "    x = rand(n)     # create random guess eigenvector\n",
    "    x /= norm(x)    # Normalize guess eigenvector\n",
    "    \n",
    "    λold = 0.0\n",
    "    \n",
    "    for i in 1:maxIter\n",
    "        xnew = A * x\n",
    "        xnew /= norm(xnew) # normalizing maintains numerical stability & ensures convergence\n",
    "        λnew = dot(xnew, A * xnew ) # Rayleigh quotient (approx eigenvalue)\n",
    "        \n",
    "        if abs(λnew - λold) < tol\n",
    "            println(\"Converged in $i iterations.\")\n",
    "            return λnew, xnew\n",
    "        end\n",
    "        x = xnew\n",
    "        λold = λnew\n",
    "    end\n",
    "    println(\"Did not converge after $maxIter iterations.\")\n",
    "    return λold, x\n",
    "end"
   ]
  },
  {
   "cell_type": "code",
   "execution_count": 32,
   "id": "cbe98cc1",
   "metadata": {},
   "outputs": [
    {
     "data": {
      "text/plain": [
       "3×3 Matrix{Float64}:\n",
       " 2.0  1.0  0.0\n",
       " 1.0  3.0  1.0\n",
       " 0.0  1.0  2.0"
      ]
     },
     "execution_count": 32,
     "metadata": {},
     "output_type": "execute_result"
    }
   ],
   "source": [
    "A = [2.0 1.0 0.0;\n",
    "     1.0 3.0 1.0;\n",
    "     0.0 1.0 2.0]"
   ]
  },
  {
   "cell_type": "code",
   "execution_count": 41,
   "id": "5340f5d3",
   "metadata": {},
   "outputs": [
    {
     "name": "stdout",
     "output_type": "stream",
     "text": [
      "Converged in 10 iterations.\n",
      "Estimated dominant eigenvalue: 3.999999899976405\n",
      "Corresponding eigenvector for dominant eigenvalue: [1.6336249044912403, 3.265986865310734, 1.632359846006694]\n"
     ]
    }
   ],
   "source": [
    "λ, v = eigenPower(A)\n",
    "println(\"Estimated dominant eigenvalue: \", λ)\n",
    "println(\"Corresponding eigenvector for dominant eigenvalue: \", v.*λ)"
   ]
  },
  {
   "cell_type": "code",
   "execution_count": null,
   "id": "7e277c66",
   "metadata": {},
   "outputs": [],
   "source": []
  }
 ],
 "metadata": {
  "kernelspec": {
   "display_name": "Julia 1.11.4",
   "language": "julia",
   "name": "julia-1.11"
  },
  "language_info": {
   "file_extension": ".jl",
   "mimetype": "application/julia",
   "name": "julia",
   "version": "1.11.4"
  }
 },
 "nbformat": 4,
 "nbformat_minor": 5
}
