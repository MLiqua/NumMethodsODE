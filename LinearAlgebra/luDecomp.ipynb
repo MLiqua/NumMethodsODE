{
 "cells": [
  {
   "cell_type": "code",
   "execution_count": null,
   "id": "6fe1fdeb",
   "metadata": {},
   "outputs": [],
   "source": [
    "#=\n",
    "Given systems:\n",
    "\n",
    "Ax = b1\n",
    "Ay = b2\n",
    "Az = b3\n",
    "=#"
   ]
  },
  {
   "cell_type": "code",
   "execution_count": 5,
   "id": "9016d8e2",
   "metadata": {},
   "outputs": [],
   "source": [
    "using LinearAlgebra"
   ]
  },
  {
   "cell_type": "code",
   "execution_count": 3,
   "id": "b1b727e1",
   "metadata": {},
   "outputs": [
    {
     "data": {
      "text/plain": [
       "3×3 Matrix{Float64}:\n",
       " 3.0  2.0  3.0\n",
       " 6.0  5.0  4.0\n",
       " 3.0  5.0  6.0"
      ]
     },
     "execution_count": 3,
     "metadata": {},
     "output_type": "execute_result"
    }
   ],
   "source": [
    "# \"System matrix\" (assumed not to change)\n",
    "A =\n",
    "    [3.0 2.0 3.0;\n",
    "    6.0 5.0 4.0;\n",
    "    3.0 5.0 6.0]"
   ]
  },
  {
   "cell_type": "code",
   "execution_count": 4,
   "id": "5f482ac3",
   "metadata": {},
   "outputs": [
    {
     "data": {
      "text/plain": [
       "3-element Vector{Float64}:\n",
       " 7.0\n",
       " 8.0\n",
       " 9.0"
      ]
     },
     "execution_count": 4,
     "metadata": {},
     "output_type": "execute_result"
    }
   ],
   "source": [
    "# Differing inputs for system\n",
    "b1 = [1.0, 2.0, 3.0]\n",
    "b2 = [4.0, 5.0, 6.0]\n",
    "b3 = [7.0, 8.0, 9.0]"
   ]
  },
  {
   "cell_type": "code",
   "execution_count": 7,
   "id": "5836224f",
   "metadata": {},
   "outputs": [
    {
     "data": {
      "text/plain": [
       "LinearAlgebra.LU{Float64, Matrix{Float64}, Vector{Int64}}\n",
       "L factor:\n",
       "3×3 Matrix{Float64}:\n",
       " 1.0   0.0  0.0\n",
       " 0.5   1.0  0.0\n",
       " 0.5  -0.2  1.0\n",
       "U factor:\n",
       "3×3 Matrix{Float64}:\n",
       " 6.0  5.0  4.0\n",
       " 0.0  2.5  4.0\n",
       " 0.0  0.0  1.8"
      ]
     },
     "execution_count": 7,
     "metadata": {},
     "output_type": "execute_result"
    }
   ],
   "source": [
    "LU = lu(A)"
   ]
  },
  {
   "cell_type": "code",
   "execution_count": 8,
   "id": "06d9bf98",
   "metadata": {},
   "outputs": [
    {
     "data": {
      "text/plain": [
       "3-element Vector{Float64}:\n",
       "  1.1481481481481481\n",
       " -1.5555555555555558\n",
       "  2.2222222222222223"
      ]
     },
     "execution_count": 8,
     "metadata": {},
     "output_type": "execute_result"
    }
   ],
   "source": [
    "x = LU \\ b1\n",
    "y = LU \\ b2\n",
    "z = LU \\ b3"
   ]
  }
 ],
 "metadata": {
  "kernelspec": {
   "display_name": "Julia 1.11.4",
   "language": "julia",
   "name": "julia-1.11"
  },
  "language_info": {
   "file_extension": ".jl",
   "mimetype": "application/julia",
   "name": "julia",
   "version": "1.11.4"
  }
 },
 "nbformat": 4,
 "nbformat_minor": 5
}
